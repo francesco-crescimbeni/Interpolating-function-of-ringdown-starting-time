{
  "cells": [
    {
      "cell_type": "markdown",
      "id": "1557a393",
      "metadata": {
        "id": "1557a393"
      },
      "source": [
        "# Mismatch Parameter Space Animation in Google Colab\n",
        "\n",
        "This notebook visualizes mismatch data and generates parameter space animations for gravitational wave simulations. It is adapted for Google Colab and allows interactive exploration of the data.\n",
        "\n",
        "**Sections:**\n",
        "1. Install Required Packages\n",
        "2. Upload Data Files\n",
        "3. Import Libraries\n",
        "4. Set Parameters and Load Data\n",
        "5. Define Helper Functions\n",
        "6. Plotting and Animation Setup\n",
        "7. Create and Display Animation"
      ]
    },
    {
      "cell_type": "code",
      "execution_count": null,
      "id": "20dfe120",
      "metadata": {
        "id": "20dfe120"
      },
      "outputs": [],
      "source": [
        "# Install required packages (if not already installed)\n",
        "!pip install seaborn matplotlib numpy pandas"
      ]
    },
    {
      "cell_type": "code",
      "execution_count": null,
      "id": "96ad9455",
      "metadata": {
        "id": "96ad9455"
      },
      "outputs": [],
      "source": [
        "# Upload data files: avg_mismatches_all_times.npz and SXS_BBH_nonprec_nonecc_all.txt\n",
        "from google.colab import files\n",
        "uploaded = files.upload()"
      ]
    },
    {
      "cell_type": "code",
      "execution_count": null,
      "id": "a3e9fa41",
      "metadata": {
        "id": "a3e9fa41"
      },
      "outputs": [],
      "source": [
        "# Import required libraries\n",
        "import numpy as np\n",
        "import pandas as pd\n",
        "import matplotlib.pyplot as plt\n",
        "import seaborn as sns\n",
        "from matplotlib.colors import ListedColormap\n",
        "from scipy.interpolate import griddata\n",
        "from matplotlib.cm import ScalarMappable\n",
        "from matplotlib.animation import FuncAnimation, PillowWriter\n",
        "from IPython.display import HTML\n",
        "import io\n",
        "import os"
      ]
    },
    {
      "cell_type": "code",
      "execution_count": null,
      "id": "2dc9ca3a",
      "metadata": {
        "id": "2dc9ca3a"
      },
      "outputs": [],
      "source": [
        "# Set parameters and load data\n",
        "npz_file = 'avg_mismatches_all_times.npz'\n",
        "catalog_file = 'SXS_BBH_nonprec_nonecc_all.txt'\n",
        "model = \"KerrBinary_Cheung\"\n",
        "modes = ['22', '21', '33', '32', '44']\n",
        "mode = '22'  # <-- Change this to select the desired mode\n",
        "\n",
        "# Load mismatch data\n",
        "data = np.load(npz_file, allow_pickle=True)\n",
        "avg_mismatches = data['avg_mismatches'].item()\n",
        "\n",
        "# Load catalog\n",
        "d_id_info = {}\n",
        "with open(catalog_file, \"r\") as f:\n",
        "    for line in f:\n",
        "        line = line.strip()\n",
        "        if not line or line.startswith(\"#\"):\n",
        "            continue\n",
        "        parts = line.split()\n",
        "        if len(parts) < 7:\n",
        "            continue\n",
        "        sim_id = parts[0]\n",
        "        try:\n",
        "            eta = float(parts[2])\n",
        "            chip = float(parts[5])\n",
        "            chim = float(parts[6])\n",
        "            d_id_info[sim_id] = {\"eta\": eta, \"chip\": chip, \"chim\": chim}\n",
        "        except ValueError:\n",
        "            continue"
      ]
    },
    {
      "cell_type": "code",
      "execution_count": null,
      "id": "8da7fb4a",
      "metadata": {
        "id": "8da7fb4a"
      },
      "outputs": [],
      "source": [
        "# Define helper functions and animation parameters\n",
        "eta_input = 0.25\n",
        "chip_input = 0.5\n",
        "chim_input = 0.2\n",
        "fixed_vals = {\"eta\": eta_input, \"chip\": chip_input, \"chim\": chim_input}\n",
        "thresholds = np.linspace(0.1, 0.00001, 10)\n",
        "\n",
        "def find_first_crossing_time(t_arr, mm_arr, thresh):\n",
        "    sort_idx = np.argsort(t_arr)\n",
        "    t_sorted = t_arr[sort_idx]\n",
        "    mm_sorted = mm_arr[sort_idx]\n",
        "    for i in range(1, len(mm_sorted)):\n",
        "        if mm_sorted[i] <= thresh:\n",
        "            t1, t2 = t_sorted[i-1], t_sorted[i]\n",
        "            m1, m2 = mm_sorted[i-1], mm_sorted[i]\n",
        "            if m2 == m1:\n",
        "                return t2\n",
        "            slope = (m2 - m1) / (t2 - t1)\n",
        "            crossing_t = t1 + (thresh - m1) / slope\n",
        "            return crossing_t\n",
        "    return None"
      ]
    },
    {
      "cell_type": "code",
      "execution_count": null,
      "id": "50057444",
      "metadata": {
        "id": "50057444"
      },
      "outputs": [],
      "source": [
        "# Plotting and animation setup\n",
        "fig, axs = plt.subplots(1, 3, figsize=(30, 8), constrained_layout=True)\n",
        "cbar_range = (0, 30)\n",
        "label_map = {\"eta\": r\"\\eta\", \"chip\": r\"\\chi_{+}\", \"chim\": r\"\\chi_{-}\"}\n",
        "axis_pairs = [(\"eta\", \"chip\"), (\"eta\", \"chim\"), (\"chip\", \"chim\")]\n",
        "cmap = ListedColormap(sns.color_palette(\"rocket\", as_cmap=True)(np.linspace(0.2, 1, 256)))\n",
        "sm = ScalarMappable(cmap=cmap, norm=plt.Normalize(vmin=cbar_range[0], vmax=cbar_range[1]))\n",
        "sm.set_array([])\n",
        "cbar = fig.colorbar(sm, ax=axs.ravel().tolist(), shrink=0.95)\n",
        "cbar.set_label(r\"$t_{\\rm start}~(\\mathrm{M})$\", fontsize=24)\n",
        "\n",
        "def update(threshold):\n",
        "    for ax in axs:\n",
        "        ax.clear()\n",
        "    crossing_records = []\n",
        "    t_start_keys = list(avg_mismatches[model][mode].keys())\n",
        "    starting_times = sorted(float(t) for t in t_start_keys)\n",
        "    for sim_id, params in d_id_info.items():\n",
        "        mm_vs_t = []\n",
        "        ts = []\n",
        "        for t_start in starting_times:\n",
        "            val = avg_mismatches.get(model, {}).get(mode, {}).get(t_start, {}).get(sim_id, np.nan)\n",
        "            if val is not None and not np.isnan(val) and val > 0:\n",
        "                ts.append(t_start)\n",
        "                mm_vs_t.append(val)\n",
        "        if len(ts) < 2:\n",
        "            t_cross = 100.0\n",
        "        else:\n",
        "            ts = np.array(ts)\n",
        "            mm_vs_t = np.array(mm_vs_t)\n",
        "            t_cross = find_first_crossing_time(ts, mm_vs_t, threshold)\n",
        "            if t_cross is None:\n",
        "                t_cross = 100.0\n",
        "        crossing_records.append({\n",
        "            \"sim_id\": sim_id,\n",
        "            \"eta\": params[\"eta\"],\n",
        "            \"chip\": params[\"chip\"],\n",
        "            \"chim\": params[\"chim\"],\n",
        "            \"crossing_t\": t_cross\n",
        "        })\n",
        "    df = pd.DataFrame(crossing_records)\n",
        "    if df.empty:\n",
        "        return\n",
        "    points = df[[\"eta\", \"chip\", \"chim\"]].values\n",
        "    values = df[\"crossing_t\"].values\n",
        "    for idx, (x, y) in enumerate(axis_pairs):\n",
        "        X_vals = np.linspace(df[x].min(), df[x].max(), 100)\n",
        "        Y_vals = np.linspace(df[y].min(), df[y].max(), 100)\n",
        "        X_grid, Y_grid = np.meshgrid(X_vals, Y_vals)\n",
        "        fixed_dim = ({\"eta\", \"chip\", \"chim\"} - {x, y}).pop()\n",
        "        points_grid = np.column_stack([\n",
        "            X_grid.ravel() if var == x else\n",
        "            Y_grid.ravel() if var == y else\n",
        "            np.full(X_grid.size, fixed_vals[fixed_dim])\n",
        "            for var in [\"eta\", \"chip\", \"chim\"]\n",
        "        ])\n",
        "        interp_vals = griddata(points, values, points_grid, method='linear')\n",
        "        interp_vals = interp_vals.reshape(X_grid.shape)\n",
        "        axs[idx].pcolormesh(X_grid, Y_grid, interp_vals, shading='auto', cmap=cmap, vmin=cbar_range[0], vmax=cbar_range[1])\n",
        "        axs[idx].set_xlabel(f\"${label_map[x]}$\", fontsize=24)\n",
        "        axs[idx].set_ylabel(f\"${label_map[y]}$\", fontsize=24)\n",
        "        axs[idx].set_title(f\"$\\\\mathcal{{M}}_{{th}}={threshold*100:.1f}\\%$, $(\\\\ell, |m|)=({int(mode[0])},{int(mode[1])})$, ${label_map[fixed_dim]}={fixed_vals[fixed_dim]:.2f}$\", fontsize=22)\n",
        "        axs[idx].plot(fixed_vals[x], fixed_vals[y], marker='*', markersize=16, color='blue')\n",
        "        axs[idx].set_xticks(np.linspace(X_vals.min(), X_vals.max(), 9), minor=True)\n",
        "        axs[idx].set_yticks(np.linspace(Y_vals.min(), Y_vals.max(), 9), minor=True)\n",
        "        axs[idx].tick_params(which='minor', length=4)\n",
        "        axs[idx].grid(True, which='major', ls=':')"
      ]
    },
    {
      "cell_type": "code",
      "execution_count": null,
      "id": "f447c2c4",
      "metadata": {
        "id": "f447c2c4"
      },
      "outputs": [],
      "source": [
        "# Create and display the animation\n",
        "ani = FuncAnimation(fig, update, frames=thresholds, interval=500, blit=False)\n",
        "HTML(ani.to_jshtml())\n",
        "\n",
        "# To save the gif (optional):\n",
        "# ani.save('interpolant_animation.gif', writer=PillowWriter(fps=2), dpi=100)"
      ]
    }
  ],
  "metadata": {
    "language_info": {
      "name": "python"
    },
    "colab": {
      "provenance": []
    }
  },
  "nbformat": 4,
  "nbformat_minor": 5
}