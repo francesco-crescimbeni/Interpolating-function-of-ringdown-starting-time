{
  "cells": [
    {
      "cell_type": "markdown",
      "metadata": {
        "id": "71xfqlnd6qyU"
      },
      "source": [
        "# Scatter points of the starting time in the progenitor parameter space\n",
        "\n",
        "This notebook generates the scatter points of $t_{\\text{start}}$ over progenitor parameter space, for a given ringdown model and $(\\ell,|m|)$ harmonic."
      ],
      "id": "71xfqlnd6qyU"
    },
    {
      "cell_type": "markdown",
      "metadata": {
        "id": "V7V2C3YN6qyX"
      },
      "source": [
        "**Imports & Settings**"
      ],
      "id": "V7V2C3YN6qyX"
    },
    {
      "cell_type": "code",
      "execution_count": 1,
      "metadata": {
        "id": "rETXuW316qyY"
      },
      "outputs": [],
      "source": [
        "# Standard library\n",
        "import os\n",
        "\n",
        "# Scientific / numeric\n",
        "import numpy as np\n",
        "import pandas as pd\n",
        "from scipy.interpolate import interp1d\n",
        "\n",
        "# Plotting\n",
        "import matplotlib.pyplot as plt\n",
        "from matplotlib import rcParams\n",
        "from matplotlib.colors import LinearSegmentedColormap\n",
        "import seaborn as sns\n",
        "\n",
        "# Plot config\n",
        "rcParams['text.usetex'] = True\n",
        "rcParams['font.size'] = 22\n"
      ],
      "id": "rETXuW316qyY"
    },
    {
      "cell_type": "markdown",
      "metadata": {
        "id": "Q66Z6oFu6qyY"
      },
      "source": [
        "**Load mismatch results and NR simulations information**"
      ],
      "id": "Q66Z6oFu6qyY"
    },
    {
      "cell_type": "code",
      "execution_count": 3,
      "id": "d4ab953e",
      "metadata": {
        "id": "d4ab953e",
        "outputId": "ca13ae8c-0293-45f0-ccf4-ec78361f6707",
        "colab": {
          "base_uri": "https://localhost:8080/"
        }
      },
      "outputs": [
        {
          "output_type": "stream",
          "name": "stderr",
          "text": [
            "<>:2: SyntaxWarning: invalid escape sequence '\\e'\n",
            "<>:8: SyntaxWarning: invalid escape sequence '\\e'\n",
            "<>:2: SyntaxWarning: invalid escape sequence '\\e'\n",
            "<>:8: SyntaxWarning: invalid escape sequence '\\e'\n",
            "/tmp/ipython-input-495155260.py:2: SyntaxWarning: invalid escape sequence '\\e'\n",
            "  Load mismatch data distributions. These contain, for the London, Cheung and TEOBPM models, the (\\ell,m) mismatch values for different starting times, where (\\ell,m)={(2,2),(2,1),(3,3),(3,2),(4,4)}.\n",
            "/tmp/ipython-input-495155260.py:8: SyntaxWarning: invalid escape sequence '\\e'\n",
            "  Load SXS catalog information (https://data.black-holes.org/simulations/index.html). To each simulation, we associate to it the triplet $(\\eta,\\chi_{+},\\chi_{-})$.\n"
          ]
        },
        {
          "output_type": "stream",
          "name": "stdout",
          "text": [
            "--2025-11-01 20:00:49--  https://github.com/francesco-crescimbeni/Interpolating-function-of-ringdown-starting-time/raw/main/avg_mismatches_all_times.npz\n",
            "Resolving github.com (github.com)... 20.27.177.113\n",
            "Connecting to github.com (github.com)|20.27.177.113|:443... connected.\n",
            "HTTP request sent, awaiting response... 302 Found\n",
            "Location: https://raw.githubusercontent.com/francesco-crescimbeni/Interpolating-function-of-ringdown-starting-time/main/avg_mismatches_all_times.npz [following]\n",
            "--2025-11-01 20:00:50--  https://raw.githubusercontent.com/francesco-crescimbeni/Interpolating-function-of-ringdown-starting-time/main/avg_mismatches_all_times.npz\n",
            "Resolving raw.githubusercontent.com (raw.githubusercontent.com)... 185.199.109.133, 185.199.110.133, 185.199.111.133, ...\n",
            "Connecting to raw.githubusercontent.com (raw.githubusercontent.com)|185.199.109.133|:443... connected.\n",
            "HTTP request sent, awaiting response... 200 OK\n",
            "Length: 583752 (570K) [application/octet-stream]\n",
            "Saving to: ‘avg_mismatches_all_times.npz.1’\n",
            "\n",
            "avg_mismatches_all_ 100%[===================>] 570.07K  --.-KB/s    in 0.1s    \n",
            "\n",
            "2025-11-01 20:00:50 (4.41 MB/s) - ‘avg_mismatches_all_times.npz.1’ saved [583752/583752]\n",
            "\n",
            "--2025-11-01 20:00:50--  https://github.com/francesco-crescimbeni/Interpolating-function-of-ringdown-starting-time/raw/main/SXS_BBH_nonprec_nonecc_all.txt\n",
            "Resolving github.com (github.com)... 20.27.177.113\n",
            "Connecting to github.com (github.com)|20.27.177.113|:443... connected.\n",
            "HTTP request sent, awaiting response... 302 Found\n",
            "Location: https://raw.githubusercontent.com/francesco-crescimbeni/Interpolating-function-of-ringdown-starting-time/main/SXS_BBH_nonprec_nonecc_all.txt [following]\n",
            "--2025-11-01 20:00:50--  https://raw.githubusercontent.com/francesco-crescimbeni/Interpolating-function-of-ringdown-starting-time/main/SXS_BBH_nonprec_nonecc_all.txt\n",
            "Resolving raw.githubusercontent.com (raw.githubusercontent.com)... 185.199.110.133, 185.199.109.133, 185.199.108.133, ...\n",
            "Connecting to raw.githubusercontent.com (raw.githubusercontent.com)|185.199.110.133|:443... connected.\n",
            "HTTP request sent, awaiting response... 200 OK\n",
            "Length: 21878 (21K) [text/plain]\n",
            "Saving to: ‘SXS_BBH_nonprec_nonecc_all.txt.1’\n",
            "\n",
            "SXS_BBH_nonprec_non 100%[===================>]  21.37K  --.-KB/s    in 0.006s  \n",
            "\n",
            "2025-11-01 20:00:50 (3.51 MB/s) - ‘SXS_BBH_nonprec_nonecc_all.txt.1’ saved [21878/21878]\n",
            "\n"
          ]
        }
      ],
      "source": [
        "\"\"\"\n",
        "Load mismatch data distributions. These contain, for the London, Cheung and TEOBPM models, the (\\ell,m) mismatch values for different starting times, where (\\ell,m)={(2,2),(2,1),(3,3),(3,2),(4,4)}.\n",
        "\"\"\"\n",
        "!wget https://github.com/francesco-crescimbeni/Interpolating-function-of-ringdown-starting-time/raw/main/avg_mismatches_all_times.npz\n",
        "\n",
        "\n",
        "\"\"\"\n",
        "Load SXS catalog information (https://data.black-holes.org/simulations/index.html). To each simulation, we associate to it the triplet $(\\eta,\\chi_{+},\\chi_{-})$.\n",
        "\"\"\"\n",
        "!wget https://github.com/francesco-crescimbeni/Interpolating-function-of-ringdown-starting-time/raw/main/SXS_BBH_nonprec_nonecc_all.txt"
      ]
    },
    {
      "cell_type": "code",
      "execution_count": null,
      "metadata": {
        "id": "6lSblDHk6qyZ",
        "outputId": "2acef454-3c69-4360-fa2a-e54701d01c59"
      },
      "outputs": [
        {
          "name": "stdout",
          "output_type": "stream",
          "text": [
            "Please choose a model:\n",
            "- KerrBinary_London\n",
            "- KerrBinary_Cheung\n",
            "- TEOBPM\n",
            "\n",
            "Please choose a mode:\n",
            "- 22\n",
            "- 21\n",
            "- 33\n",
            "- 32\n",
            "- 44\n",
            "\n",
            "✅ You selected model = 'TEOBPM' and mode = '22'\n"
          ]
        }
      ],
      "source": [
        "# List of avaliable models and modes\n",
        "available_models = [\"KerrBinary_London\", \"KerrBinary_Cheung\", \"TEOBPM\"]\n",
        "available_modes = ['22', '21', '33', '32', '44']\n",
        "\n",
        "# Ask user for a valid model\n",
        "print(\"Please choose a model:\")\n",
        "for model in available_models:\n",
        "    print(f\"- {model}\")\n",
        "\n",
        "model = input(\"Enter model name: \")\n",
        "\n",
        "while model not in available_models:\n",
        "    print(\"Invalid model. Please choose from the list.\")\n",
        "    model = input(\"Enter model name: \")\n",
        "\n",
        "# Ask user for a valid mode\n",
        "print(\"\\nPlease choose a mode:\")\n",
        "for mode in available_modes:\n",
        "    print(f\"- {mode}\")\n",
        "\n",
        "mode = input(\"Enter mode: \")\n",
        "\n",
        "while mode not in available_modes:\n",
        "    print(\"Invalid mode. Please choose from the list.\")\n",
        "    mode = input(\"Enter mode: \")\n",
        "\n",
        "# Final confirmation\n",
        "print(f\"\\n✅ You selected model = '{model}' and mode = '{mode}'\")\n",
        "\n",
        "# Set parameters and load data\n",
        "npz_file = 'avg_mismatches_all_times.npz'\n",
        "\n",
        "# Load mismatch data\n",
        "data = np.load(npz_file, allow_pickle=True)\n",
        "avg_mismatches = data['avg_mismatches'].item()\n",
        "\n",
        "# Load SXS catalog\n",
        "catalog_file = 'SXS_BBH_nonprec_nonecc_all.txt'\n",
        "thresholds = [0.035]\n",
        "apply_shift = False  # change to True to apply t_shift logic"
      ],
      "id": "6lSblDHk6qyZ"
    },
    {
      "cell_type": "markdown",
      "metadata": {
        "id": "9RH0aCuP6qya"
      },
      "source": [
        "## Load Data"
      ],
      "id": "9RH0aCuP6qya"
    },
    {
      "cell_type": "code",
      "execution_count": null,
      "metadata": {
        "id": "ndQbdETP6qya",
        "outputId": "e802e3c5-3c96-459e-8164-3cd29fcedccf"
      },
      "outputs": [
        {
          "name": "stdout",
          "output_type": "stream",
          "text": [
            "Loaded 336 simulations\n"
          ]
        }
      ],
      "source": [
        "data = np.load(npz_file, allow_pickle=True)\n",
        "avg_mismatches = data['avg_mismatches'].item()\n",
        "\n",
        "id_info = {}\n",
        "with open(catalog_file, \"r\") as f:\n",
        "    for line in f:\n",
        "        line=line.strip()\n",
        "        if not line or line.startswith('#'): continue\n",
        "        p=line.split()\n",
        "        if len(p)<7: continue\n",
        "        try:\n",
        "            id_info[p[0]] = {\"eta\":float(p[2]), \"chip\":float(p[5]), \"chim\":float(p[6])}\n",
        "        except: pass\n",
        "\n",
        "print(f\"Loaded {len(id_info)} simulations\")"
      ],
      "id": "ndQbdETP6qya"
    },
    {
      "cell_type": "markdown",
      "metadata": {
        "id": "MAdm7i9b6qya"
      },
      "source": [
        "## Define Plot Colors"
      ],
      "id": "MAdm7i9b6qya"
    },
    {
      "cell_type": "code",
      "execution_count": null,
      "metadata": {
        "id": "TyjaL2dv6qya"
      },
      "outputs": [],
      "source": [
        "def hex_to_rgb(hex_color):\n",
        "    hex_color = hex_color.lstrip('#')\n",
        "    return tuple(int(hex_color[i:i+2], 16)/255.0 for i in (0, 2, 4))\n",
        "\n",
        "def lighten_color(rgb_color, factor):\n",
        "    return tuple(c + (1 - c) * factor for c in rgb_color)\n",
        "\n",
        "cmap = LinearSegmentedColormap.from_list(\n",
        "    \"enhanced\", [\n",
        "        hex_to_rgb(\"#4477AA\"),\n",
        "        lighten_color(hex_to_rgb(\"#4477AA\"), 0.4),\n",
        "        (1,1,1),\n",
        "        lighten_color(hex_to_rgb(\"#EE6677\"), 0.4),\n",
        "        hex_to_rgb(\"#EE6677\")\n",
        "    ], 256\n",
        ")"
      ],
      "id": "TyjaL2dv6qya"
    },
    {
      "cell_type": "markdown",
      "metadata": {
        "id": "uTnItPU56qyb"
      },
      "source": [
        "## Main Plot Function"
      ],
      "id": "uTnItPU56qyb"
    },
    {
      "cell_type": "code",
      "execution_count": null,
      "metadata": {
        "id": "3-0AJ6Na6qyb"
      },
      "outputs": [],
      "source": [
        "def compute_t_start(sim_id, mode, threshold, start_times):\n",
        "    ts, mm = [], []\n",
        "    for t in start_times:\n",
        "        v = avg_mismatches.get(model,{}).get(mode,{}).get(t,{}).get(sim_id,np.nan)\n",
        "        if not np.isnan(v) and v>0:\n",
        "            ts.append(t); mm.append(v)\n",
        "    if len(ts)<2: return None\n",
        "    ts, mm = np.array(ts), np.array(mm)\n",
        "    for t, m in zip(ts, mm):\n",
        "        if m <= threshold: return t\n",
        "    return None"
      ],
      "id": "3-0AJ6Na6qyb"
    },
    {
      "cell_type": "markdown",
      "metadata": {
        "id": "k7K06r5M6qyb"
      },
      "source": [
        "## Execute Scatter Plotting"
      ],
      "id": "k7K06r5M6qyb"
    },
    {
      "cell_type": "code",
      "execution_count": null,
      "metadata": {
        "id": "8jkVetQb6qyb",
        "outputId": "70e3fa9c-2737-4d67-ec91-38f023708eaf"
      },
      "outputs": [
        {
          "name": "stdout",
          "output_type": "stream",
          "text": [
            "✅ Saved: scatter_lm22_thresh_0.035.pdf\n",
            "✅ Saved: scatter_lm21_thresh_0.035.pdf\n",
            "✅ Saved: scatter_lm33_thresh_0.035.pdf\n",
            "✅ Saved: scatter_lm32_thresh_0.035.pdf\n",
            "✅ Saved: scatter_lm44_thresh_0.035.pdf\n"
          ]
        }
      ],
      "source": [
        "# LaTeX labels for axes\n",
        "label_map = {\"eta\": r\"\\eta\", \"chip\": r\"\\chi_+\", \"chim\": r\"\\chi_-\"}\n",
        "\n",
        "for mode in available_modes:\n",
        "    start_times = sorted(float(t) for t in avg_mismatches[models[0]][mode].keys())\n",
        "    l_val, m_val = mode[0], mode[1]\n",
        "\n",
        "    for threshold in thresholds:\n",
        "        fig, axs = plt.subplots(3, len(models), figsize=(20 * len(models), 20))\n",
        "\n",
        "        for col, model in enumerate(models):\n",
        "            records = []\n",
        "            for sim, prm in id_info.items():\n",
        "                t_s = compute_t_start(sim, mode, threshold, start_times)\n",
        "                records.append({**prm, \"t\": t_s})\n",
        "\n",
        "            df = pd.DataFrame(records)\n",
        "\n",
        "            for r, (x, y) in enumerate([(\"eta\",\"chip\"),(\"eta\",\"chim\"),(\"chip\",\"chim\")]):\n",
        "                ax = axs[r][col]\n",
        "                sc = ax.scatter(df[x], df[y], c=df[\"t\"], cmap=cmap, vmin=0, vmax=30, s=60)\n",
        "\n",
        "                ax.set_xlabel(f\"${label_map[x]}$\")\n",
        "                ax.set_ylabel(f\"${label_map[y]}$\")\n",
        "\n",
        "                if r == 0:\n",
        "                    ax.set_title(rf\"{model}, $({l_val},{m_val})$\")\n",
        "\n",
        "        fig.colorbar(sc, ax=axs.ravel().tolist(), shrink=0.9)\n",
        "\n",
        "        # ---- SAVE TO PDF ----\n",
        "        outname = f\"scatter_lm{mode}_thresh_{threshold:.3f}.pdf\"\n",
        "\n",
        "        plt.savefig(outname)\n",
        "        plt.close()\n",
        "\n",
        "        print(f\"✅ Saved: {outname}\")\n"
      ],
      "id": "8jkVetQb6qyb"
    }
  ],
  "metadata": {
    "kernelspec": {
      "display_name": "base",
      "language": "python",
      "name": "python3"
    },
    "language_info": {
      "codemirror_mode": {
        "name": "ipython",
        "version": 3
      },
      "file_extension": ".py",
      "mimetype": "text/x-python",
      "name": "python",
      "nbconvert_exporter": "python",
      "pygments_lexer": "ipython3",
      "version": "3.10.11"
    },
    "colab": {
      "provenance": []
    }
  },
  "nbformat": 4,
  "nbformat_minor": 5
}